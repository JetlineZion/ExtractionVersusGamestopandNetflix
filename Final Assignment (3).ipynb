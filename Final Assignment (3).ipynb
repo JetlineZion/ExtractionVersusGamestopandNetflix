import yfinance as yf
import panda as pd
import requests
from bs4 for BeautifulSoup
import plotly.graph_objects as go
from plotly.subplots import subplot

import yfinnce as yf

#Download historical data for a stock
tsla=yf.Ticker("Telsa")
print(tsla)

tsla_data=tsla.history(period="max")
